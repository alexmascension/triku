{
 "cells": [
  {
   "cell_type": "markdown",
   "metadata": {},
   "source": [
    "# Using triku with non-integer datasets\n",
    "\n",
    "Triku's key step is the convolution of reads. Convolution can be applied to either discrete or continuous distributions. However, scanpy's convolution function takes a numeric vector where each step is a unit. When datasets are continuous we cannot then do the convolution, because the vector to represent each value in the real axis would be infinite. However, we can approach this continuous convolution by discretizing it, that is, by bining the continuous values into discrete categories, and applying convolution on them.\n",
    "\n",
    "The binning step is controlled by the `n_divisions` parameter. This means that the unit will be divided into `n_divisions` parts. For example, if `n_divisions` is 4, then all continuous values between X.0 and X.25 will be gathered into the same bin, and so on. By doing that, we can have read count and knn count arrays with discrete values (the first 4 values would the 0 to 1, the next 4 would be from 1 to 2, and so on). We can now apply convolution, just because the unit has been divided into discrete subunits, with the only difference that, in the end, we will *revert back* the scale on the x axis by dividing it by `n_divisions`.\n",
    "\n",
    "**Why is this important?** \n",
    "There are some datasets that might not have discrete read counts. For example, `alevin` read mapper takes into account read mapping to different isoforms or different genes. The mapping is therefore split into all candidates, and we may get non-integer read counts. \n",
    "In that case, triku would not be able to apply the convolution, and would fail to produce any distance. Now, it is able to do so.\n",
    "\n",
    "Also, some datasets might already be log transformed, in which case it is highly likely that no value is an integer. In those cases we could round each value and apply triku, but the distortions would be huge.\n",
    "\n",
    "\n",
    "**Purpose**\n",
    "In this notebook we are going to apply triku to 3 10X datasets (neuron, pbmc, heart), which have been mapped with alevin. We are going to test triku in three conditions:\n",
    "* Integer data: we make sure that selected features and wasserstein distances are the same regardless of `n_divisions`.\n",
    "* Original data: some counts will no be integer (0.5, 1.333, etc.). We will run triku with several `n_divisions` and check the similarity of distances with 100 divisions, and the rest of options. To do that we will calculate the sum of the absolute distances for all genes, and divide it by the number of genes $\\frac{1}{n}\\sum |a_{100} - a_X|$. Mean absolute distance will increase with smaller `n_divisions`. We consider 100 to be a good approximation of continuity. \n",
    "* Log-transformed data: We will log transform (log(x + 1)) each dataset and do the same as with the previous case. In this case dataset will have a wider range of continuous elements, and the convergence of the `n_divisions` will require higher `n_divisions`.\n",
    "\n",
    "To avoid any random effect, we have set 5 different seeds, and we will do comparisons between results of the same seed. In this way we make sure that the only differing effect is the number of divisions. Take into account that PCA and NN algorithms must yield the same results because the discretization step is performed at the convolution step, which requires PCA and NN to be done beforehand."
   ]
  },
  {
   "cell_type": "code",
   "execution_count": null,
   "metadata": {},
   "outputs": [],
   "source": [
    "%load_ext autoreload"
   ]
  },
  {
   "cell_type": "code",
   "execution_count": null,
   "metadata": {},
   "outputs": [],
   "source": [
    "%autoreload 2"
   ]
  },
  {
   "cell_type": "code",
   "execution_count": null,
   "metadata": {},
   "outputs": [],
   "source": [
    "import triku as tk\n",
    "import scanpy as sc\n",
    "import pandas as pd\n",
    "import numpy as np\n",
    "import scipy.sparse as spr\n",
    "import scipy.stats as sts\n",
    "import os\n",
    "import gc\n",
    "from itertools import product\n",
    "import pickle\n",
    "import ray\n",
    "\n",
    "from tqdm.notebook import tqdm\n",
    "\n",
    "from bokeh.io import show, output_notebook, reset_output\n",
    "from bokeh.plotting import figure\n",
    "from bokeh.models import LinearColorMapper\n",
    "\n",
    "import matplotlib.pyplot as plt\n",
    "import matplotlib as mpl\n",
    "from matplotlib.lines import Line2D\n",
    "\n",
    "from sklearn.metrics import adjusted_rand_score as ARS\n",
    "from sklearn.metrics import adjusted_mutual_info_score as NMI\n",
    "from sklearn.metrics import silhouette_score, davies_bouldin_score\n",
    "\n",
    "reset_output()\n",
    "output_notebook()"
   ]
  },
  {
   "cell_type": "code",
   "execution_count": null,
   "metadata": {},
   "outputs": [],
   "source": [
    "!python setup.py install"
   ]
  },
  {
   "cell_type": "code",
   "execution_count": null,
   "metadata": {},
   "outputs": [],
   "source": [
    "os.makedirs(os.getcwd() + '/exports/continuous/', exist_ok=True)"
   ]
  },
  {
   "cell_type": "code",
   "execution_count": null,
   "metadata": {},
   "outputs": [],
   "source": [
    "from triku_nb_code.palettes_and_cmaps import magma, bold_and_vivid, prism"
   ]
  },
  {
   "cell_type": "code",
   "execution_count": null,
   "metadata": {},
   "outputs": [],
   "source": [
    "%matplotlib inline"
   ]
  },
  {
   "cell_type": "code",
   "execution_count": null,
   "metadata": {},
   "outputs": [],
   "source": [
    "_10x_dir = os.path.dirname(os.getcwd()) + '/data/10x/FASTQs/'"
   ]
  },
  {
   "cell_type": "code",
   "execution_count": null,
   "metadata": {},
   "outputs": [],
   "source": [
    "list_n_divisions = [1, 2, 3, 5, 7, 10, 15, 20, 40, 50, 75, 100]"
   ]
  },
  {
   "cell_type": "code",
   "execution_count": null,
   "metadata": {},
   "outputs": [],
   "source": [
    "tissues = ['neuron', 'pbmc', 'heart']"
   ]
  },
  {
   "cell_type": "code",
   "execution_count": null,
   "metadata": {},
   "outputs": [],
   "source": [
    "a = np.array([True, True, False])\n",
    "b = np.array([False, True, False])\n",
    "\n",
    "np.sum(a & b)/np.sum(a | b)"
   ]
  },
  {
   "cell_type": "code",
   "execution_count": null,
   "metadata": {},
   "outputs": [],
   "source": [
    "def make_dist_fig(option, title, n_feats = 500):\n",
    "    fig, axs = plt.subplots(1, len(tissues), figsize=(2.5*len(tissues), 2.5))\n",
    "    for tissue_i, tissue in enumerate(tissues):\n",
    "        ax2 = axs[tissue_i].twinx() \n",
    "        \n",
    "        for seed in range(5):\n",
    "            df = pd.read_csv(os.getcwd() + f'/exports/continuous/{tissue}_seed-{seed}_emd-distance_{option}.csv')\n",
    "            list_distances_divs = []\n",
    "            list_jaccard = []\n",
    "            \n",
    "            thresh_last = np.sort(df[f'div_{list_n_divisions[-1]}'].values)[-500]\n",
    "            \n",
    "            for x in list_n_divisions:\n",
    "                list_distances_divs.append(np.mean(np.abs(df[f'div_{x}'].values - df[f'div_{list_n_divisions[-1]}'].values)))\n",
    "                \n",
    "                thresh_x = np.sort(df[f'div_{x}'].values)[-500]\n",
    "                \n",
    "                greater_x, greater_last = df[f'div_{x}'].values > thresh_x, df[f'div_{list_n_divisions[-1]}'].values > thresh_last\n",
    "                jac = np.sum(greater_x & greater_last)/np.sum(greater_x | greater_last)\n",
    "                list_jaccard.append(jac)\n",
    "                \n",
    "            axs[tissue_i].plot(list_n_divisions[:], list_distances_divs[:], c=\"#606060\")\n",
    "            ax2.plot(list_n_divisions[:], list_jaccard[:], c=\"firebrick\", alpha = 0.3)\n",
    "\n",
    "        axs[tissue_i].tick_params(axis='y', colors=\"#606060\")\n",
    "        ax2.tick_params(axis='y', colors='firebrick')\n",
    "        ax2.set_ylim([0.45, 1.05])\n",
    "        ax2.set_yticks([0.5, 0.6, 0.7, 0.8, 0.9, 1]); ax2.set_yticklabels([0.5, 0.6, 0.7, 0.8, 0.9, 1])\n",
    "        \n",
    "        for ax in [ax2, axs[tissue_i]]:\n",
    "            ax.set_xscale('log')\n",
    "            ax.set_xticks(list_n_divisions[::2])\n",
    "            ax.set_xticklabels(list_n_divisions[::2])\n",
    "            \n",
    "        \n",
    "        axs[tissue_i].set_title(tissue)\n",
    "#     fig.suptitle(title, y=1.05)\n",
    "    axs[0].set_ylabel('Mean absolute distance', c=\"#606060\")\n",
    "    ax2.set_ylabel(f'Jaccard index (of {n_feats} features)', c=\"firebrick\")\n",
    "    \n",
    "    plt.tight_layout()\n",
    "    os.makedirs(os.getcwd() + '/figures/continuous_figs/', exist_ok=True)\n",
    "    plt.savefig(os.getcwd() + f'/figures/continuous_figs/comparison_{option}.pdf')     "
   ]
  },
  {
   "cell_type": "code",
   "execution_count": null,
   "metadata": {
    "scrolled": true
   },
   "outputs": [],
   "source": [
    "for tissue in tissues:\n",
    "    adata = sc.read_h5ad(_10x_dir + f'alevin_output_{tissue}/{tissue}_10k_v3_filtered_feature_bc_matrix.h5')\n",
    "    adata.var_names_make_unique()\n",
    "    adata.X = adata.X.astype(int)\n",
    "    sc.pp.filter_cells(adata, min_counts=400)\n",
    "    sc.pp.filter_genes(adata, min_counts=100)\n",
    "    \n",
    "    \n",
    "    for seed in range(5):\n",
    "#         if os.path.exists(os.getcwd() + f'/exports/continuous/{tissue}_seed-{seed}_emd-distance_int.csv'):\n",
    "#             continue  \n",
    "            \n",
    "        df = pd.DataFrame(columns=[f'div_{i}' for i in list_n_divisions], \n",
    "                          index=adata.var_names)\n",
    "        for n_divisions in list_n_divisions:\n",
    "            print(tissue, n_divisions, seed)\n",
    "            tk.tl.triku(adata, apply_background_correction=False, n_divisions=n_divisions, n_procs=8, random_state=seed)\n",
    "            df.loc[:, f'div_{n_divisions}'] = adata.var['triku_distance'].values\n",
    "            \n",
    "        \n",
    "        df.to_csv(os.getcwd() + f'/exports/continuous/{tissue}_seed-{seed}_emd-distance_int.csv') "
   ]
  },
  {
   "cell_type": "code",
   "execution_count": null,
   "metadata": {},
   "outputs": [],
   "source": [
    "make_dist_fig(option='int', title='Mean absolute distance (integer)')"
   ]
  },
  {
   "cell_type": "markdown",
   "metadata": {},
   "source": [
    "We see that distance variation is minimal ($10^{-10}$), that is, the convolution is stable and yields the same values if datasets are integers. There is however a slight decrease in distance with higher `n_division` which might be because of small variations on how the convolution is calculated. However, those values are still insignificant and still considered 0."
   ]
  },
  {
   "cell_type": "code",
   "execution_count": null,
   "metadata": {
    "scrolled": true
   },
   "outputs": [],
   "source": [
    "for tissue in ['neuron', 'pbmc', 'heart']:\n",
    "    adata = sc.read_h5ad(_10x_dir + f'alevin_output_{tissue}/{tissue}_10k_v3_filtered_feature_bc_matrix.h5')\n",
    "    adata.var_names_make_unique()\n",
    "    sc.pp.filter_cells(adata, min_counts=400)\n",
    "    sc.pp.filter_genes(adata, min_counts=100)\n",
    "    \n",
    "    for seed in range(5):\n",
    "#         if os.path.exists(os.getcwd() + f'/exports/continuous/{tissue}_seed-{seed}_emd-distance_float.csv'):\n",
    "#             continue        \n",
    "        df = pd.DataFrame(columns=[f'div_{i}' for i in list_n_divisions], \n",
    "                          index=adata.var_names)\n",
    "        for n_divisions in list_n_divisions:\n",
    "            print(tissue, n_divisions, seed)\n",
    "            tk.tl.triku(adata, apply_background_correction=False, n_divisions=n_divisions, n_procs=8, random_state=seed)\n",
    "            df.loc[:, f'div_{n_divisions}'] = adata.var['triku_distance'].values\n",
    "        \n",
    "        df.to_csv(os.getcwd() + f'/exports/continuous/{tissue}_seed-{seed}_emd-distance_float.csv')             "
   ]
  },
  {
   "cell_type": "code",
   "execution_count": null,
   "metadata": {},
   "outputs": [],
   "source": [
    "make_dist_fig(option='float', title='Mean absolute distance')"
   ]
  },
  {
   "cell_type": "markdown",
   "metadata": {},
   "source": [
    "The mean distance ranges from 0.05 to 0.1 at the beginning, that is, without continuous convolution, there is a mean difference of less than a tenth per gene. This is expected because there will be a certain amount of genes with 1/2, 1/3 or 2/3 (or other fractions) of reads mapped to that gene. When the `n_divisions` increases to 2 or 3, the distance decreases enormously because many of those isoforms are now considered in that convolution, and the distance for these cases is now 0. The slight increase of distance in `n_divisions`=15 is because, being 15 odd, all the isoforms with 1/3, 1/5, etc. will not be exact in the convolution with that number of `n_divisions`. In fact, this phenomenon also occurs with `n_divisions`=7, where only float values of the type 1/7, 1/14, etc. will be exact.\n",
    "\n",
    "Therefore, the best option for `n_divisions`, if small, should be 6 or 12, which is a multiple of 2, 3, 4, and 6, the most possible fraction of isoforms. Nonetheless, at higher numbers of `n_divisions` the distances plateau. "
   ]
  },
  {
   "cell_type": "code",
   "execution_count": null,
   "metadata": {
    "scrolled": true
   },
   "outputs": [],
   "source": [
    "for tissue in ['neuron', 'pbmc', 'heart']:\n",
    "    adata = sc.read_h5ad(_10x_dir + f'alevin_output_{tissue}/{tissue}_10k_v3_filtered_feature_bc_matrix.h5')\n",
    "    adata.var_names_make_unique()\n",
    "    sc.pp.filter_cells(adata, min_counts=400)\n",
    "    sc.pp.filter_genes(adata, min_counts=100)\n",
    "    sc.pp.log1p(adata)\n",
    "    \n",
    "    for seed in range(5):\n",
    "#         if os.path.exists(os.getcwd() + f'/exports/continuous/{tissue}_seed-{seed}_emd-distance_log.csv'):\n",
    "#             continue  \n",
    "            \n",
    "        df = pd.DataFrame(columns=[f'div_{i}' for i in list_n_divisions], \n",
    "                          index=adata.var_names)\n",
    "        for n_divisions in list_n_divisions:\n",
    "            print(tissue, n_divisions, seed)\n",
    "            tk.tl.triku(adata, apply_background_correction=False, n_divisions=n_divisions, n_procs=8, random_state=seed)\n",
    "            df.loc[:, f'div_{n_divisions}'] = adata.var['triku_distance'].values\n",
    "        \n",
    "        df.to_csv(os.getcwd() + f'/exports/continuous/{tissue}_seed-{seed}_emd-distance_log.csv')     "
   ]
  },
  {
   "cell_type": "code",
   "execution_count": null,
   "metadata": {},
   "outputs": [],
   "source": [
    "make_dist_fig(option='log', title='Mean absolute distance (logarithm)')"
   ]
  },
  {
   "cell_type": "markdown",
   "metadata": {},
   "source": [
    "In this case, the logarithmization of integer and fraction numbers yields floating numbers much more variable than only fraction numbers. Therefore, distances decrease without notable peaks like in the case before. In that case, a number of `n_divisions` around 15 - 20 (12 can bee a wise election too) should yield sufficiently small differences for the selected genes to be the same."
   ]
  },
  {
   "cell_type": "code",
   "execution_count": null,
   "metadata": {},
   "outputs": [],
   "source": []
  }
 ],
 "metadata": {
  "kernelspec": {
   "display_name": "Python [conda env:alex-base] *",
   "language": "python",
   "name": "conda-env-alex-base-py"
  },
  "language_info": {
   "codemirror_mode": {
    "name": "ipython",
    "version": 3
   },
   "file_extension": ".py",
   "mimetype": "text/x-python",
   "name": "python",
   "nbconvert_exporter": "python",
   "pygments_lexer": "ipython3",
   "version": "3.7.6"
  },
  "toc": {
   "base_numbering": 1,
   "nav_menu": {},
   "number_sections": true,
   "sideBar": true,
   "skip_h1_title": false,
   "title_cell": "Table of Contents",
   "title_sidebar": "Contents",
   "toc_cell": false,
   "toc_position": {},
   "toc_section_display": true,
   "toc_window_display": false
  },
  "toc-autonumbering": true,
  "toc-showcode": false,
  "toc-showmarkdowntxt": false,
  "varInspector": {
   "cols": {
    "lenName": 16,
    "lenType": 16,
    "lenVar": 40
   },
   "kernels_config": {
    "python": {
     "delete_cmd_postfix": "",
     "delete_cmd_prefix": "del ",
     "library": "var_list.py",
     "varRefreshCmd": "print(var_dic_list())"
    },
    "r": {
     "delete_cmd_postfix": ") ",
     "delete_cmd_prefix": "rm(",
     "library": "var_list.r",
     "varRefreshCmd": "cat(var_dic_list()) "
    }
   },
   "types_to_exclude": [
    "module",
    "function",
    "builtin_function_or_method",
    "instance",
    "_Feature"
   ],
   "window_display": false
  }
 },
 "nbformat": 4,
 "nbformat_minor": 4
}
