{
 "cells": [
  {
   "cell_type": "code",
   "execution_count": null,
   "metadata": {},
   "outputs": [],
   "source": [
    "%load_ext autoreload"
   ]
  },
  {
   "cell_type": "code",
   "execution_count": null,
   "metadata": {},
   "outputs": [],
   "source": [
    "%autoreload 2"
   ]
  },
  {
   "cell_type": "code",
   "execution_count": null,
   "metadata": {},
   "outputs": [],
   "source": [
    "import triku as tk\n",
    "import scanpy as sc\n",
    "import pandas as pd\n",
    "import numpy as np\n",
    "import scipy.sparse as spr\n",
    "import scipy.stats as sts\n",
    "import os\n",
    "import gc\n",
    "from itertools import product\n",
    "import pickle\n",
    "import ray\n",
    "import itertools\n",
    "\n",
    "from tqdm.notebook import tqdm\n",
    "\n",
    "from bokeh.io import show, output_notebook, reset_output\n",
    "from bokeh.plotting import figure\n",
    "from bokeh.models import LinearColorMapper\n",
    "\n",
    "import matplotlib.pyplot as plt\n",
    "import matplotlib as mpl\n",
    "from matplotlib.lines import Line2D\n",
    "\n",
    "from sklearn.metrics import adjusted_rand_score as ARS\n",
    "from sklearn.metrics import adjusted_mutual_info_score as NMI\n",
    "from sklearn.metrics import silhouette_score, davies_bouldin_score\n",
    "\n",
    "import time \n",
    "\n",
    "reset_output()\n",
    "output_notebook()"
   ]
  },
  {
   "cell_type": "code",
   "execution_count": null,
   "metadata": {},
   "outputs": [],
   "source": [
    "mpl.rcParams['figure.dpi'] = 150"
   ]
  },
  {
   "cell_type": "code",
   "execution_count": null,
   "metadata": {},
   "outputs": [],
   "source": [
    "!python setup.py install"
   ]
  },
  {
   "cell_type": "code",
   "execution_count": null,
   "metadata": {},
   "outputs": [],
   "source": [
    "save_dir = \"../data/splatter/\"\n",
    "data_dir = \"../data/comp_times/\"\n",
    "\n",
    "os.makedirs(data_dir, exist_ok=True)"
   ]
  },
  {
   "cell_type": "code",
   "execution_count": null,
   "metadata": {},
   "outputs": [],
   "source": [
    "adata = sc.read_loom(save_dir + '/splatter_large.loom')"
   ]
  },
  {
   "cell_type": "code",
   "execution_count": null,
   "metadata": {},
   "outputs": [],
   "source": [
    "n_cores = [1, 2, 4, 8, 16, 32]\n",
    "per_cells = [1, 2, 5, 10, 20, 50]\n",
    "per_genes = [5, 10, 20, 50, 100]\n",
    "trials = range(5)"
   ]
  },
  {
   "cell_type": "code",
   "execution_count": null,
   "metadata": {},
   "outputs": [],
   "source": [
    "f = open(data_dir + '/results_triku_parallel_scatter.txt', 'w')\n",
    "f.write(\"n_cores\\tper_cell\\tn_cells\\tper_gene\\tn_genes\\ttrial\\ttime\\n\")\n",
    "f.close()"
   ]
  },
  {
   "cell_type": "code",
   "execution_count": null,
   "metadata": {
    "scrolled": true
   },
   "outputs": [],
   "source": [
    "for n_core, per_cell, per_gene, trial in itertools.product(*[n_cores, per_cells, per_genes, trials]):\n",
    "    n_genes, n_cells = int(len(adata.var_names) * per_gene / 100), int(len(adata.obs_names) * per_cell / 100)\n",
    "    \n",
    "    gene_idx, cell_idx = np.sort(np.random.choice(range(len(adata.var_names)), n_genes)), np.sort(np.random.choice(range(len(adata.obs_names)), n_cells))\n",
    "    print(n_genes, n_cells)\n",
    "    arr = adata.X[cell_idx, :]\n",
    "    arr = arr[:, gene_idx]\n",
    "    adatasub = sc.AnnData(arr)\n",
    "    \n",
    "    print(adatasub)\n",
    "    sc.pp.filter_genes(adatasub, min_counts=1)\n",
    "    \n",
    "    t0 = time.time()\n",
    "    tk.tl.triku(adatasub, n_procs=n_core)\n",
    "    dt = time.time() - t0\n",
    "    \n",
    "    f = open(data_dir + '/results_triku_parallel_scatter.txt', 'a')\n",
    "    f.write(f\"{n_core}\\t{per_cell}\\t{n_cells}\\t{per_gene}\\t{n_genes}\\t{trial}\\t{dt}\\n\")\n",
    "    f.close()\n",
    "\n",
    "    del adatasub\n",
    "#     adata_copy = adata[cell_idx, gene_idx].copy()\n",
    "#     print(adata_copy)"
   ]
  },
  {
   "cell_type": "code",
   "execution_count": null,
   "metadata": {},
   "outputs": [],
   "source": [
    "df = pd.read_csv(data_dir + '/results_triku_parallel_scatter.txt', sep='\\t')"
   ]
  },
  {
   "cell_type": "code",
   "execution_count": null,
   "metadata": {},
   "outputs": [],
   "source": [
    "col_fix = 'n_cells'\n",
    "fix_val = 2000\n",
    "col_var = 'n_genes'\n",
    "\n",
    "n_cores_vals = sorted(set(df['n_cores'].values))\n",
    "n_var_vals = sorted(set(df[col_var].values))"
   ]
  },
  {
   "cell_type": "code",
   "execution_count": null,
   "metadata": {},
   "outputs": [],
   "source": [
    "palette = ['#00429d', '#455dad', '#6b7abe', '#8c98ce', '#adb7df', '#cdd7ef', '#edf9ff']\n",
    "\n",
    "fig, ax = plt.subplots(1,1)\n",
    "\n",
    "for var_val_idx, var_val in enumerate(n_var_vals):\n",
    "    means, stds = [], []\n",
    "    for core in n_cores_vals:\n",
    "        sub_df = df[(df[col_var] == var_val) & (df['n_cores'] == core) & (df[col_fix] == fix_val)]\n",
    "        means.append(sub_df['time'].values.mean())\n",
    "        stds.append(sub_df['time'].values.std())\n",
    "    \n",
    "    ax.plot(n_cores_vals, means, color=palette[var_val_idx], label=var_val)\n",
    "    \n",
    "    ax.scatter(n_cores_vals, means, color=palette[var_val_idx], s=10)    \n",
    "#     for idx in range(len(n_cores_vals)):\n",
    "#         ax.plot([n_cores_vals[idx], n_cores_vals[idx]], [means[idx] - stds[idx], means[idx] + stds[idx]], c='#898989')\n",
    "        \n",
    "    ax.plot()\n",
    "plt.legend()"
   ]
  },
  {
   "cell_type": "code",
   "execution_count": null,
   "metadata": {},
   "outputs": [],
   "source": [
    "n_var_vals"
   ]
  },
  {
   "cell_type": "code",
   "execution_count": null,
   "metadata": {},
   "outputs": [],
   "source": [
    "sorted(set(df['n_cells'].values))"
   ]
  }
 ],
 "metadata": {
  "kernelspec": {
   "display_name": "Python [conda env:alex-base] *",
   "language": "python",
   "name": "conda-env-alex-base-py"
  },
  "language_info": {
   "codemirror_mode": {
    "name": "ipython",
    "version": 3
   },
   "file_extension": ".py",
   "mimetype": "text/x-python",
   "name": "python",
   "nbconvert_exporter": "python",
   "pygments_lexer": "ipython3",
   "version": "3.8.0"
  },
  "toc": {
   "base_numbering": 1,
   "nav_menu": {},
   "number_sections": true,
   "sideBar": true,
   "skip_h1_title": false,
   "title_cell": "Table of Contents",
   "title_sidebar": "Contents",
   "toc_cell": false,
   "toc_position": {},
   "toc_section_display": true,
   "toc_window_display": false
  },
  "toc-autonumbering": true,
  "toc-showcode": false,
  "toc-showmarkdowntxt": false,
  "varInspector": {
   "cols": {
    "lenName": 16,
    "lenType": 16,
    "lenVar": 40
   },
   "kernels_config": {
    "python": {
     "delete_cmd_postfix": "",
     "delete_cmd_prefix": "del ",
     "library": "var_list.py",
     "varRefreshCmd": "print(var_dic_list())"
    },
    "r": {
     "delete_cmd_postfix": ") ",
     "delete_cmd_prefix": "rm(",
     "library": "var_list.r",
     "varRefreshCmd": "cat(var_dic_list()) "
    }
   },
   "types_to_exclude": [
    "module",
    "function",
    "builtin_function_or_method",
    "instance",
    "_Feature"
   ],
   "window_display": false
  }
 },
 "nbformat": 4,
 "nbformat_minor": 4
}
