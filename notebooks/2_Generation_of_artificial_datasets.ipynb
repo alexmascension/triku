{
 "cells": [
  {
   "cell_type": "markdown",
   "metadata": {},
   "source": [
    "# Generation of artificial datasets\n",
    "In this notebook we are going to introduce the code to generate artificial samples using splatter. Splatter allows us to generate artificial samples with varying number of genes and cells, number of groups and mixture between groups. These datasets are interesting to see ideal scenarios, that, is, to hace a ground truth where we can compare efficiency of feature selection of different feature selection methods.\n",
    "\n",
    "The number of genes and number of cells will be 15000 and 10000 respectively. 15000 genes is high enough to be similar to the numbers obtained in real datasets after filtering genes in less than 5 or 10 cells. Also, 10000 cells is high enough to get good quality UMAPs, a real-life number of cells (even in the high-end, but that's good to see time performance) and high enough to see time performance efficience and, if necessary, to reduce the number of cells later.\n",
    "\n",
    "The datasets will contain 9 groups with different proportions (0.25, 0.2, 0.15, 0.1, 0.1, 0.07, 0.055, 0.04, 0.035), and we will also include a parametter called *differential expression probability*. The general idea of this parameter is that, the lower the probability, the more mixed the expression and the more difficult to tell different groups apart. We will use this property later in other notebooks to measure the performance of different methods."
   ]
  },
  {
   "cell_type": "code",
   "execution_count": null,
   "metadata": {},
   "outputs": [],
   "source": [
    "import scanpy as sc\n",
    "import os"
   ]
  },
  {
   "cell_type": "code",
   "execution_count": null,
   "metadata": {},
   "outputs": [],
   "source": [
    "import rpy2.rinterface_lib.callbacks\n",
    "from rpy2.robjects import pandas2ri\n",
    "import anndata2ri, logging\n",
    "\n",
    "# Ignore R warning messages\n",
    "#Note: this can be commented out to get more verbose R output\n",
    "rpy2.rinterface_lib.callbacks.logger.setLevel(logging.ERROR)\n",
    "\n",
    "# Automatically convert rpy2 outputs to pandas dataframes\n",
    "pandas2ri.activate()\n",
    "anndata2ri.activate()\n",
    "%load_ext rpy2.ipython"
   ]
  },
  {
   "cell_type": "code",
   "execution_count": null,
   "metadata": {},
   "outputs": [],
   "source": [
    "save_dir = \"../data/splatter/\""
   ]
  },
  {
   "cell_type": "code",
   "execution_count": null,
   "metadata": {},
   "outputs": [],
   "source": [
    "os.makedirs(save_dir, exist_ok=True)"
   ]
  },
  {
   "cell_type": "code",
   "execution_count": null,
   "metadata": {},
   "outputs": [],
   "source": [
    "ls $save_dir"
   ]
  },
  {
   "cell_type": "code",
   "execution_count": null,
   "metadata": {},
   "outputs": [],
   "source": [
    "%%R\n",
    "library(splatter)"
   ]
  },
  {
   "cell_type": "code",
   "execution_count": null,
   "metadata": {},
   "outputs": [],
   "source": [
    "%%R \n",
    "\n",
    "generate_splatter <- function(de_prob){\n",
    "    params <- newSplatParams()\n",
    "    params <- setParams(params, update= list(seed=1, nGenes=15000, batchCells=10000))\n",
    "    params <- setParams(params, update= list(group.prob = c(0.25, 0.2, 0.15, 0.1, 0.1, 0.07, \n",
    "                                                            0.055, 0.04, 0.035), \n",
    "                                            de.prob=de_prob))\n",
    "\n",
    "    sim <- splatSimulate(params, method='groups')\n",
    "    counts <- counts(sim)\n",
    "    \n",
    "    return(list(\"sim\"=sim, \"counts\"=counts))\n",
    "}"
   ]
  },
  {
   "cell_type": "code",
   "execution_count": null,
   "metadata": {},
   "outputs": [],
   "source": [
    "def preprocess_sim(sim):\n",
    "    sc.pp.filter_genes(sim, min_cells=1) # to prevent triku from failing with zero-expressed genes\n",
    "    sc.pp.filter_cells(sim, min_genes=1)\n",
    "    sim.X = np.asarray(sim.X.todense())\n",
    "    sc.pp.calculate_qc_metrics(sim, inplace=True)"
   ]
  },
  {
   "cell_type": "markdown",
   "metadata": {},
   "source": [
    "In the return we include the counts separately because when getting the adata from sim, the counts are messed up (I don't know why, maybe is something from r2py or adata2ri or something like that). In any case, we are going to create the adatas and apply the counts, and that's all."
   ]
  },
  {
   "cell_type": "markdown",
   "metadata": {},
   "source": [
    "### DE prob = 0.005"
   ]
  },
  {
   "cell_type": "code",
   "execution_count": null,
   "metadata": {},
   "outputs": [],
   "source": [
    "%%R -o sim -o counts\n",
    "\n",
    "simcounts_list <- generate_splatter(0.005)\n",
    "\n",
    "sim <- simcounts_list$sim\n",
    "counts <- simcounts_list$counts"
   ]
  },
  {
   "cell_type": "code",
   "execution_count": null,
   "metadata": {},
   "outputs": [],
   "source": [
    "sim.X = counts.T\n",
    "\n",
    "del sim.uns['Params']  # throws error when saving adata\n",
    "preprocess_sim(sim)\n",
    "\n",
    "sim.write_loom(save_dir + 'splatter_deprob_0.005.loom')  # loom is better because we can later read on cache"
   ]
  },
  {
   "cell_type": "markdown",
   "metadata": {},
   "source": [
    "### DE prob = 0.0065"
   ]
  },
  {
   "cell_type": "code",
   "execution_count": null,
   "metadata": {},
   "outputs": [],
   "source": [
    "%%R -o sim -o counts\n",
    "\n",
    "simcounts_list <- generate_splatter(0.0065)\n",
    "\n",
    "sim <- simcounts_list$sim\n",
    "counts <- simcounts_list$counts"
   ]
  },
  {
   "cell_type": "code",
   "execution_count": null,
   "metadata": {},
   "outputs": [],
   "source": [
    "sim.X = counts.T\n",
    "\n",
    "del sim.uns['Params']  # throws error when saving adata\n",
    "preprocess_sim(sim)\n",
    "\n",
    "sim.write_loom(save_dir + 'splatter_deprob_0.0065.loom')  # loom is better because we can later read on cache"
   ]
  },
  {
   "cell_type": "markdown",
   "metadata": {},
   "source": [
    "### DE prob = 0.008"
   ]
  },
  {
   "cell_type": "code",
   "execution_count": null,
   "metadata": {},
   "outputs": [],
   "source": [
    "%%R -o sim -o counts\n",
    "\n",
    "simcounts_list <- generate_splatter(0.008)\n",
    "\n",
    "sim <- simcounts_list$sim\n",
    "counts <- simcounts_list$counts"
   ]
  },
  {
   "cell_type": "code",
   "execution_count": null,
   "metadata": {},
   "outputs": [],
   "source": [
    "sim.X = counts.T\n",
    "\n",
    "del sim.uns['Params']  # throws error when saving adata\n",
    "preprocess_sim(sim)\n",
    "\n",
    "sim.write_loom(save_dir + 'splatter_deprob_0.008.loom')  # loom is better because we can later read on cache"
   ]
  },
  {
   "cell_type": "markdown",
   "metadata": {},
   "source": [
    "### DE prob = 0.01"
   ]
  },
  {
   "cell_type": "code",
   "execution_count": null,
   "metadata": {},
   "outputs": [],
   "source": [
    "%%R -o sim -o counts\n",
    "\n",
    "simcounts_list <- generate_splatter(0.01)\n",
    "\n",
    "sim <- simcounts_list$sim\n",
    "counts <- simcounts_list$counts"
   ]
  },
  {
   "cell_type": "code",
   "execution_count": null,
   "metadata": {},
   "outputs": [],
   "source": [
    "sim.X = counts.T\n",
    "\n",
    "del sim.uns['Params']  # throws error when saving adata\n",
    "preprocess_sim(sim)\n",
    "\n",
    "sim.write_loom(save_dir + 'splatter_deprob_0.01.loom')  # loom is better because we can later read on cache"
   ]
  },
  {
   "cell_type": "markdown",
   "metadata": {},
   "source": [
    "### DE prob = 0.013"
   ]
  },
  {
   "cell_type": "code",
   "execution_count": null,
   "metadata": {},
   "outputs": [],
   "source": [
    "%%R -o sim -o counts\n",
    "\n",
    "simcounts_list <- generate_splatter(0.013)\n",
    "\n",
    "sim <- simcounts_list$sim\n",
    "counts <- simcounts_list$counts"
   ]
  },
  {
   "cell_type": "code",
   "execution_count": null,
   "metadata": {},
   "outputs": [],
   "source": [
    "sim.X = counts.T\n",
    "\n",
    "del sim.uns['Params']  # throws error when saving adata\n",
    "preprocess_sim(sim)\n",
    "\n",
    "sim.write_loom(save_dir + 'splatter_deprob_0.013.loom')  # loom is better because we can later read on cache"
   ]
  },
  {
   "cell_type": "markdown",
   "metadata": {},
   "source": [
    "### DE prob = 0.016"
   ]
  },
  {
   "cell_type": "code",
   "execution_count": null,
   "metadata": {},
   "outputs": [],
   "source": [
    "%%R -o sim -o counts\n",
    "\n",
    "simcounts_list <- generate_splatter(0.016)\n",
    "\n",
    "sim <- simcounts_list$sim\n",
    "counts <- simcounts_list$counts"
   ]
  },
  {
   "cell_type": "code",
   "execution_count": null,
   "metadata": {},
   "outputs": [],
   "source": [
    "sim.X = counts.T\n",
    "\n",
    "del sim.uns['Params']  # throws error when saving adata\n",
    "preprocess_sim(sim)\n",
    "\n",
    "sim.write_loom(save_dir + 'splatter_deprob_0.016.loom')  # loom is better because we can later read on cache"
   ]
  },
  {
   "cell_type": "markdown",
   "metadata": {},
   "source": [
    "### DE prob = 0.025"
   ]
  },
  {
   "cell_type": "code",
   "execution_count": null,
   "metadata": {},
   "outputs": [],
   "source": [
    "%%R -o sim -o counts\n",
    "\n",
    "simcounts_list <- generate_splatter(0.025)\n",
    "\n",
    "sim <- simcounts_list$sim\n",
    "counts <- simcounts_list$counts"
   ]
  },
  {
   "cell_type": "code",
   "execution_count": null,
   "metadata": {},
   "outputs": [],
   "source": [
    "sim.X = counts.T\n",
    "\n",
    "del sim.uns['Params']  # throws error when saving adata\n",
    "preprocess_sim(sim)\n",
    "\n",
    "sim.write_loom(save_dir + 'splatter_deprob_0.025.loom')  # loom is better because we can later read on cache"
   ]
  },
  {
   "cell_type": "markdown",
   "metadata": {},
   "source": [
    "### DE prob = 0.05"
   ]
  },
  {
   "cell_type": "code",
   "execution_count": null,
   "metadata": {},
   "outputs": [],
   "source": [
    "%%R -o sim -o counts\n",
    "\n",
    "simcounts_list <- generate_splatter(0.05)\n",
    "\n",
    "sim <- simcounts_list$sim\n",
    "counts <- simcounts_list$counts"
   ]
  },
  {
   "cell_type": "code",
   "execution_count": null,
   "metadata": {},
   "outputs": [],
   "source": [
    "sim.X = counts.T\n",
    "\n",
    "del sim.uns['Params']  # throws error when saving adata\n",
    "preprocess_sim(sim)\n",
    "sim.write_loom(save_dir + 'splatter_deprob_0.05.loom')  # loom is better because we can later read on cache"
   ]
  },
  {
   "cell_type": "markdown",
   "metadata": {},
   "source": [
    "### DE prob = 0.1"
   ]
  },
  {
   "cell_type": "code",
   "execution_count": null,
   "metadata": {},
   "outputs": [],
   "source": [
    "%%R -o sim -o counts\n",
    "\n",
    "simcounts_list <- generate_splatter(0.1)\n",
    "\n",
    "sim <- simcounts_list$sim\n",
    "counts <- simcounts_list$counts"
   ]
  },
  {
   "cell_type": "code",
   "execution_count": null,
   "metadata": {},
   "outputs": [],
   "source": [
    "sim.X = counts.T\n",
    "\n",
    "del sim.uns['Params']  # throws error when saving adata\n",
    "preprocess_sim(sim)\n",
    "\n",
    "sim.write_loom(save_dir + 'splatter_deprob_0.1.loom')  # loom is better because we can later read on cache"
   ]
  },
  {
   "cell_type": "markdown",
   "metadata": {},
   "source": [
    "### DE prob = 0.3"
   ]
  },
  {
   "cell_type": "code",
   "execution_count": null,
   "metadata": {},
   "outputs": [],
   "source": [
    "%%R -o sim -o counts\n",
    "\n",
    "simcounts_list <- generate_splatter(0.3)\n",
    "\n",
    "sim <- simcounts_list$sim\n",
    "counts <- simcounts_list$counts"
   ]
  },
  {
   "cell_type": "code",
   "execution_count": null,
   "metadata": {},
   "outputs": [],
   "source": [
    "sim.X = counts.T\n",
    "\n",
    "del sim.uns['Params']  # throws error when saving adata\n",
    "preprocess_sim(sim)\n",
    "\n",
    "sim.write_loom(save_dir + 'splatter_deprob_0.3.loom')  # loom is better because we can later read on cache"
   ]
  },
  {
   "cell_type": "markdown",
   "metadata": {},
   "source": [
    "# Plotting the datasets\n",
    "\n",
    "To see the effect of differential expression probability, we are going to run a simple pipe using all genes in each dataset, and plot a UMAP. We will show the groups the cells belong to."
   ]
  },
  {
   "cell_type": "code",
   "execution_count": null,
   "metadata": {
    "scrolled": true
   },
   "outputs": [],
   "source": [
    "list_adatas = []\n",
    "\n",
    "for de in [0.005, 0.0065, 0.008, 0.01, 0.013, 0.016, 0.025, 0.05, 0.1, 0.3]:\n",
    "    adata = sc.read(save_dir + 'splatter_deprob_{}.loom'.format(de), cache=True)\n",
    "    \n",
    "    sc.pp.pca(adata)\n",
    "    sc.pp.neighbors(adata)\n",
    "    sc.pp.log1p(adata)\n",
    "    sc.tl.umap(adata)\n",
    "    \n",
    "    list_adatas.append(adata)"
   ]
  },
  {
   "cell_type": "code",
   "execution_count": null,
   "metadata": {},
   "outputs": [],
   "source": [
    "for adata in list_adatas:\n",
    "    adata.obs['groupn'] = [i.replace('Group', '') for i in adata.obs['Group']]\n",
    "    sc.pl.umap(adata, color=['groupn', 'total_counts'], legend_loc='on data')"
   ]
  },
  {
   "cell_type": "code",
   "execution_count": null,
   "metadata": {},
   "outputs": [],
   "source": []
  }
 ],
 "metadata": {
  "kernelspec": {
   "display_name": "Python [conda env:alex-base] *",
   "language": "python",
   "name": "conda-env-alex-base-py"
  },
  "language_info": {
   "codemirror_mode": {
    "name": "ipython",
    "version": 3
   },
   "file_extension": ".py",
   "mimetype": "text/x-python",
   "name": "python",
   "nbconvert_exporter": "python",
   "pygments_lexer": "ipython3",
   "version": "3.7.6"
  },
  "toc": {
   "base_numbering": 1,
   "nav_menu": {},
   "number_sections": true,
   "sideBar": true,
   "skip_h1_title": false,
   "title_cell": "Table of Contents",
   "title_sidebar": "Contents",
   "toc_cell": false,
   "toc_position": {},
   "toc_section_display": true,
   "toc_window_display": false
  },
  "varInspector": {
   "cols": {
    "lenName": 16,
    "lenType": 16,
    "lenVar": 40
   },
   "kernels_config": {
    "python": {
     "delete_cmd_postfix": "",
     "delete_cmd_prefix": "del ",
     "library": "var_list.py",
     "varRefreshCmd": "print(var_dic_list())"
    },
    "r": {
     "delete_cmd_postfix": ") ",
     "delete_cmd_prefix": "rm(",
     "library": "var_list.r",
     "varRefreshCmd": "cat(var_dic_list()) "
    }
   },
   "types_to_exclude": [
    "module",
    "function",
    "builtin_function_or_method",
    "instance",
    "_Feature"
   ],
   "window_display": false
  }
 },
 "nbformat": 4,
 "nbformat_minor": 4
}
